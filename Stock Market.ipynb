{
 "cells": [
  {
   "cell_type": "code",
   "execution_count": 2,
   "id": "86ebf43d",
   "metadata": {},
   "outputs": [],
   "source": [
    "#Importing Libraries\n",
    "import pandas as pd\n",
    "import warnings #warnings\n",
    "warnings.filterwarnings('ignore')\n",
    "import seaborn as sns"
   ]
  },
  {
   "cell_type": "code",
   "execution_count": 3,
   "id": "a7f8e5f9",
   "metadata": {},
   "outputs": [],
   "source": [
    "df = pd.read_csv('Stock Market Dataset.csv')"
   ]
  },
  {
   "cell_type": "code",
   "execution_count": 4,
   "id": "27822536",
   "metadata": {},
   "outputs": [
    {
     "data": {
      "text/plain": [
       "Index(['Index', 'Date', 'Natural_Gas_Price', 'Natural_Gas_Vol.',\n",
       "       'Crude_oil_Price', 'Crude_oil_Vol.', 'Copper_Price', 'Copper_Vol.',\n",
       "       'Bitcoin_Price', 'Bitcoin_Vol.', 'Platinum_Price', 'Platinum_Vol.',\n",
       "       'Ethereum_Price', 'Ethereum_Vol.', 'S&P_500_Price', 'Nasdaq_100_Price',\n",
       "       'Nasdaq_100_Vol.', 'Apple_Price', 'Apple_Vol.', 'Tesla_Price',\n",
       "       'Tesla_Vol.', 'Microsoft_Price', 'Microsoft_Vol.', 'Silver_Price',\n",
       "       'Silver_Vol.', 'Google_Price', 'Google_Vol.', 'Nvidia_Price',\n",
       "       'Nvidia_Vol.', 'Berkshire_Price', 'Berkshire_Vol.', 'Netflix_Price',\n",
       "       'Netflix_Vol.', 'Amazon_Price', 'Amazon_Vol.', 'Meta_Price',\n",
       "       'Meta_Vol.', 'Gold_Price', 'Gold_Vol.'],\n",
       "      dtype='object')"
      ]
     },
     "execution_count": 4,
     "metadata": {},
     "output_type": "execute_result"
    }
   ],
   "source": [
    "df.columns"
   ]
  },
  {
   "cell_type": "code",
   "execution_count": 5,
   "id": "253403f1",
   "metadata": {},
   "outputs": [
    {
     "data": {
      "text/plain": [
       "0    02-02-2024\n",
       "1    01-02-2024\n",
       "2    31-01-2024\n",
       "3    30-01-2024\n",
       "4    29-01-2024\n",
       "5    26-01-2024\n",
       "6    25-01-2024\n",
       "7    24-01-2024\n",
       "8    23-01-2024\n",
       "9    22-01-2024\n",
       "Name: Date, dtype: object"
      ]
     },
     "execution_count": 5,
     "metadata": {},
     "output_type": "execute_result"
    }
   ],
   "source": [
    "df['Date'].head(10)"
   ]
  },
  {
   "cell_type": "code",
   "execution_count": 6,
   "id": "a17e8916",
   "metadata": {
    "scrolled": true
   },
   "outputs": [
    {
     "data": {
      "text/plain": [
       "Index                  0\n",
       "Date                   0\n",
       "Natural_Gas_Price      0\n",
       "Natural_Gas_Vol.       4\n",
       "Crude_oil_Price        0\n",
       "Crude_oil_Vol.        23\n",
       "Copper_Price           0\n",
       "Copper_Vol.           37\n",
       "Bitcoin_Price          0\n",
       "Bitcoin_Vol.           0\n",
       "Platinum_Price         0\n",
       "Platinum_Vol.        607\n",
       "Ethereum_Price         0\n",
       "Ethereum_Vol.          0\n",
       "S&P_500_Price          0\n",
       "Nasdaq_100_Price       0\n",
       "Nasdaq_100_Vol.        1\n",
       "Apple_Price            0\n",
       "Apple_Vol.             0\n",
       "Tesla_Price            0\n",
       "Tesla_Vol.             0\n",
       "Microsoft_Price        0\n",
       "Microsoft_Vol.         0\n",
       "Silver_Price           0\n",
       "Silver_Vol.           47\n",
       "Google_Price           0\n",
       "Google_Vol.            0\n",
       "Nvidia_Price           0\n",
       "Nvidia_Vol.            0\n",
       "Berkshire_Price        0\n",
       "Berkshire_Vol.         0\n",
       "Netflix_Price          0\n",
       "Netflix_Vol.           0\n",
       "Amazon_Price           0\n",
       "Amazon_Vol.            0\n",
       "Meta_Price             0\n",
       "Meta_Vol.              0\n",
       "Gold_Price             0\n",
       "Gold_Vol.              2\n",
       "dtype: int64"
      ]
     },
     "execution_count": 6,
     "metadata": {},
     "output_type": "execute_result"
    }
   ],
   "source": [
    "df.isna().sum()"
   ]
  },
  {
   "cell_type": "code",
   "execution_count": 7,
   "id": "5510315e",
   "metadata": {},
   "outputs": [
    {
     "data": {
      "text/html": [
       "<div>\n",
       "<style scoped>\n",
       "    .dataframe tbody tr th:only-of-type {\n",
       "        vertical-align: middle;\n",
       "    }\n",
       "\n",
       "    .dataframe tbody tr th {\n",
       "        vertical-align: top;\n",
       "    }\n",
       "\n",
       "    .dataframe thead th {\n",
       "        text-align: right;\n",
       "    }\n",
       "</style>\n",
       "<table border=\"1\" class=\"dataframe\">\n",
       "  <thead>\n",
       "    <tr style=\"text-align: right;\">\n",
       "      <th></th>\n",
       "      <th>count</th>\n",
       "      <th>mean</th>\n",
       "      <th>std</th>\n",
       "      <th>min</th>\n",
       "      <th>25%</th>\n",
       "      <th>50%</th>\n",
       "      <th>75%</th>\n",
       "      <th>max</th>\n",
       "    </tr>\n",
       "  </thead>\n",
       "  <tbody>\n",
       "    <tr>\n",
       "      <th>Index</th>\n",
       "      <td>1243.0</td>\n",
       "      <td>6.210000e+02</td>\n",
       "      <td>3.589675e+02</td>\n",
       "      <td>0.000000e+00</td>\n",
       "      <td>3.105000e+02</td>\n",
       "      <td>6.210000e+02</td>\n",
       "      <td>9.315000e+02</td>\n",
       "      <td>1.242000e+03</td>\n",
       "    </tr>\n",
       "    <tr>\n",
       "      <th>Natural_Gas_Price</th>\n",
       "      <td>1243.0</td>\n",
       "      <td>3.494714e+00</td>\n",
       "      <td>1.822540e+00</td>\n",
       "      <td>1.482000e+00</td>\n",
       "      <td>2.347500e+00</td>\n",
       "      <td>2.702000e+00</td>\n",
       "      <td>4.055500e+00</td>\n",
       "      <td>9.647000e+00</td>\n",
       "    </tr>\n",
       "    <tr>\n",
       "      <th>Natural_Gas_Vol.</th>\n",
       "      <td>1239.0</td>\n",
       "      <td>1.316241e+05</td>\n",
       "      <td>6.438514e+04</td>\n",
       "      <td>1.200000e+03</td>\n",
       "      <td>9.190000e+04</td>\n",
       "      <td>1.273700e+05</td>\n",
       "      <td>1.694600e+05</td>\n",
       "      <td>3.819700e+05</td>\n",
       "    </tr>\n",
       "    <tr>\n",
       "      <th>Crude_oil_Price</th>\n",
       "      <td>1243.0</td>\n",
       "      <td>6.757706e+01</td>\n",
       "      <td>2.046550e+01</td>\n",
       "      <td>-3.763000e+01</td>\n",
       "      <td>5.509500e+01</td>\n",
       "      <td>6.923000e+01</td>\n",
       "      <td>8.045500e+01</td>\n",
       "      <td>1.237000e+02</td>\n",
       "    </tr>\n",
       "    <tr>\n",
       "      <th>Crude_oil_Vol.</th>\n",
       "      <td>1220.0</td>\n",
       "      <td>3.989038e+05</td>\n",
       "      <td>2.161619e+05</td>\n",
       "      <td>1.702000e+04</td>\n",
       "      <td>2.835975e+05</td>\n",
       "      <td>3.668850e+05</td>\n",
       "      <td>5.072425e+05</td>\n",
       "      <td>1.770000e+06</td>\n",
       "    </tr>\n",
       "    <tr>\n",
       "      <th>Copper_Price</th>\n",
       "      <td>1243.0</td>\n",
       "      <td>3.541957e+00</td>\n",
       "      <td>7.028187e-01</td>\n",
       "      <td>2.100500e+00</td>\n",
       "      <td>2.858750e+00</td>\n",
       "      <td>3.666000e+00</td>\n",
       "      <td>4.137250e+00</td>\n",
       "      <td>4.937500e+00</td>\n",
       "    </tr>\n",
       "    <tr>\n",
       "      <th>Copper_Vol.</th>\n",
       "      <td>1206.0</td>\n",
       "      <td>3.540662e+04</td>\n",
       "      <td>3.841545e+04</td>\n",
       "      <td>1.000000e+01</td>\n",
       "      <td>3.700000e+02</td>\n",
       "      <td>1.018000e+04</td>\n",
       "      <td>6.834000e+04</td>\n",
       "      <td>1.760400e+05</td>\n",
       "    </tr>\n",
       "    <tr>\n",
       "      <th>Bitcoin_Vol.</th>\n",
       "      <td>1243.0</td>\n",
       "      <td>4.033918e+07</td>\n",
       "      <td>2.940889e+08</td>\n",
       "      <td>2.600000e+02</td>\n",
       "      <td>7.907500e+04</td>\n",
       "      <td>2.153100e+05</td>\n",
       "      <td>6.151050e+05</td>\n",
       "      <td>4.470000e+09</td>\n",
       "    </tr>\n",
       "    <tr>\n",
       "      <th>Platinum_Vol.</th>\n",
       "      <td>636.0</td>\n",
       "      <td>9.082516e+03</td>\n",
       "      <td>8.876539e+03</td>\n",
       "      <td>0.000000e+00</td>\n",
       "      <td>1.120000e+03</td>\n",
       "      <td>6.070000e+03</td>\n",
       "      <td>1.528750e+04</td>\n",
       "      <td>4.283000e+04</td>\n",
       "    </tr>\n",
       "    <tr>\n",
       "      <th>Ethereum_Vol.</th>\n",
       "      <td>1243.0</td>\n",
       "      <td>1.801563e+07</td>\n",
       "      <td>1.326933e+08</td>\n",
       "      <td>7.518000e+04</td>\n",
       "      <td>5.883600e+05</td>\n",
       "      <td>1.570000e+06</td>\n",
       "      <td>9.365000e+06</td>\n",
       "      <td>1.790000e+09</td>\n",
       "    </tr>\n",
       "    <tr>\n",
       "      <th>Nasdaq_100_Vol.</th>\n",
       "      <td>1242.0</td>\n",
       "      <td>2.238827e+08</td>\n",
       "      <td>8.246992e+07</td>\n",
       "      <td>5.047000e+07</td>\n",
       "      <td>1.715275e+08</td>\n",
       "      <td>2.116200e+08</td>\n",
       "      <td>2.559850e+08</td>\n",
       "      <td>9.825600e+08</td>\n",
       "    </tr>\n",
       "    <tr>\n",
       "      <th>Apple_Price</th>\n",
       "      <td>1243.0</td>\n",
       "      <td>1.255665e+02</td>\n",
       "      <td>4.611412e+01</td>\n",
       "      <td>4.236000e+01</td>\n",
       "      <td>7.950500e+01</td>\n",
       "      <td>1.367600e+02</td>\n",
       "      <td>1.629150e+02</td>\n",
       "      <td>1.981100e+02</td>\n",
       "    </tr>\n",
       "    <tr>\n",
       "      <th>Apple_Vol.</th>\n",
       "      <td>1243.0</td>\n",
       "      <td>9.981845e+07</td>\n",
       "      <td>5.208192e+07</td>\n",
       "      <td>2.404000e+07</td>\n",
       "      <td>6.599000e+07</td>\n",
       "      <td>8.749000e+07</td>\n",
       "      <td>1.170750e+08</td>\n",
       "      <td>4.268800e+08</td>\n",
       "    </tr>\n",
       "    <tr>\n",
       "      <th>Tesla_Price</th>\n",
       "      <td>1243.0</td>\n",
       "      <td>1.735904e+02</td>\n",
       "      <td>1.066881e+02</td>\n",
       "      <td>1.193000e+01</td>\n",
       "      <td>5.333500e+01</td>\n",
       "      <td>2.020700e+02</td>\n",
       "      <td>2.514700e+02</td>\n",
       "      <td>4.099700e+02</td>\n",
       "    </tr>\n",
       "    <tr>\n",
       "      <th>Tesla_Vol.</th>\n",
       "      <td>1243.0</td>\n",
       "      <td>1.341790e+08</td>\n",
       "      <td>8.509129e+07</td>\n",
       "      <td>2.940000e+07</td>\n",
       "      <td>8.136000e+07</td>\n",
       "      <td>1.095200e+08</td>\n",
       "      <td>1.578300e+08</td>\n",
       "      <td>9.140800e+08</td>\n",
       "    </tr>\n",
       "    <tr>\n",
       "      <th>Microsoft_Price</th>\n",
       "      <td>1243.0</td>\n",
       "      <td>2.412401e+02</td>\n",
       "      <td>7.342984e+01</td>\n",
       "      <td>1.052500e+02</td>\n",
       "      <td>1.825250e+02</td>\n",
       "      <td>2.453800e+02</td>\n",
       "      <td>2.971200e+02</td>\n",
       "      <td>4.112200e+02</td>\n",
       "    </tr>\n",
       "    <tr>\n",
       "      <th>Microsoft_Vol.</th>\n",
       "      <td>1243.0</td>\n",
       "      <td>2.920801e+07</td>\n",
       "      <td>1.236710e+07</td>\n",
       "      <td>8.990000e+06</td>\n",
       "      <td>2.153500e+07</td>\n",
       "      <td>2.610000e+07</td>\n",
       "      <td>3.317500e+07</td>\n",
       "      <td>9.707000e+07</td>\n",
       "    </tr>\n",
       "    <tr>\n",
       "      <th>Silver_Price</th>\n",
       "      <td>1243.0</td>\n",
       "      <td>2.158898e+01</td>\n",
       "      <td>3.859288e+00</td>\n",
       "      <td>1.177200e+01</td>\n",
       "      <td>1.799850e+01</td>\n",
       "      <td>2.275800e+01</td>\n",
       "      <td>2.451200e+01</td>\n",
       "      <td>2.941800e+01</td>\n",
       "    </tr>\n",
       "    <tr>\n",
       "      <th>Silver_Vol.</th>\n",
       "      <td>1196.0</td>\n",
       "      <td>6.769542e+04</td>\n",
       "      <td>3.807885e+04</td>\n",
       "      <td>0.000000e+00</td>\n",
       "      <td>4.815000e+04</td>\n",
       "      <td>6.294000e+04</td>\n",
       "      <td>7.910000e+04</td>\n",
       "      <td>3.552800e+05</td>\n",
       "    </tr>\n",
       "    <tr>\n",
       "      <th>Google_Price</th>\n",
       "      <td>1243.0</td>\n",
       "      <td>9.967083e+01</td>\n",
       "      <td>2.976689e+01</td>\n",
       "      <td>5.194000e+01</td>\n",
       "      <td>7.118500e+01</td>\n",
       "      <td>1.012400e+02</td>\n",
       "      <td>1.272050e+02</td>\n",
       "      <td>1.535100e+02</td>\n",
       "    </tr>\n",
       "    <tr>\n",
       "      <th>Google_Vol.</th>\n",
       "      <td>1243.0</td>\n",
       "      <td>3.351599e+07</td>\n",
       "      <td>1.507215e+07</td>\n",
       "      <td>9.310000e+06</td>\n",
       "      <td>2.410500e+07</td>\n",
       "      <td>2.973000e+07</td>\n",
       "      <td>3.735500e+07</td>\n",
       "      <td>1.331800e+08</td>\n",
       "    </tr>\n",
       "    <tr>\n",
       "      <th>Nvidia_Price</th>\n",
       "      <td>1243.0</td>\n",
       "      <td>1.872858e+02</td>\n",
       "      <td>1.346799e+02</td>\n",
       "      <td>3.345000e+01</td>\n",
       "      <td>7.390500e+01</td>\n",
       "      <td>1.515900e+02</td>\n",
       "      <td>2.421400e+02</td>\n",
       "      <td>6.616000e+02</td>\n",
       "    </tr>\n",
       "    <tr>\n",
       "      <th>Nvidia_Vol.</th>\n",
       "      <td>1243.0</td>\n",
       "      <td>4.560298e+07</td>\n",
       "      <td>1.869107e+07</td>\n",
       "      <td>9.790000e+06</td>\n",
       "      <td>3.245000e+07</td>\n",
       "      <td>4.279000e+07</td>\n",
       "      <td>5.511500e+07</td>\n",
       "      <td>1.534600e+08</td>\n",
       "    </tr>\n",
       "    <tr>\n",
       "      <th>Berkshire_Vol.</th>\n",
       "      <td>1243.0</td>\n",
       "      <td>2.426525e+03</td>\n",
       "      <td>2.660498e+03</td>\n",
       "      <td>8.000000e+01</td>\n",
       "      <td>3.450000e+02</td>\n",
       "      <td>1.510000e+03</td>\n",
       "      <td>3.225000e+03</td>\n",
       "      <td>1.385000e+04</td>\n",
       "    </tr>\n",
       "    <tr>\n",
       "      <th>Netflix_Price</th>\n",
       "      <td>1243.0</td>\n",
       "      <td>4.048395e+02</td>\n",
       "      <td>1.149895e+02</td>\n",
       "      <td>1.663700e+02</td>\n",
       "      <td>3.230100e+02</td>\n",
       "      <td>3.841500e+02</td>\n",
       "      <td>4.953650e+02</td>\n",
       "      <td>6.916900e+02</td>\n",
       "    </tr>\n",
       "    <tr>\n",
       "      <th>Netflix_Vol.</th>\n",
       "      <td>1243.0</td>\n",
       "      <td>7.057401e+06</td>\n",
       "      <td>6.384187e+06</td>\n",
       "      <td>1.140000e+06</td>\n",
       "      <td>3.990000e+06</td>\n",
       "      <td>5.610000e+06</td>\n",
       "      <td>7.910000e+06</td>\n",
       "      <td>1.333900e+08</td>\n",
       "    </tr>\n",
       "    <tr>\n",
       "      <th>Amazon_Price</th>\n",
       "      <td>1243.0</td>\n",
       "      <td>1.286832e+02</td>\n",
       "      <td>3.080863e+01</td>\n",
       "      <td>7.941000e+01</td>\n",
       "      <td>9.626000e+01</td>\n",
       "      <td>1.287300e+02</td>\n",
       "      <td>1.581100e+02</td>\n",
       "      <td>1.865700e+02</td>\n",
       "    </tr>\n",
       "    <tr>\n",
       "      <th>Amazon_Vol.</th>\n",
       "      <td>1243.0</td>\n",
       "      <td>7.413005e+07</td>\n",
       "      <td>3.245753e+07</td>\n",
       "      <td>1.763000e+07</td>\n",
       "      <td>5.264500e+07</td>\n",
       "      <td>6.520000e+07</td>\n",
       "      <td>8.674500e+07</td>\n",
       "      <td>3.113500e+08</td>\n",
       "    </tr>\n",
       "    <tr>\n",
       "      <th>Meta_Price</th>\n",
       "      <td>1243.0</td>\n",
       "      <td>2.397281e+02</td>\n",
       "      <td>7.101543e+01</td>\n",
       "      <td>8.891000e+01</td>\n",
       "      <td>1.833550e+02</td>\n",
       "      <td>2.244300e+02</td>\n",
       "      <td>3.016500e+02</td>\n",
       "      <td>4.749900e+02</td>\n",
       "    </tr>\n",
       "    <tr>\n",
       "      <th>Meta_Vol.</th>\n",
       "      <td>1243.0</td>\n",
       "      <td>2.325851e+07</td>\n",
       "      <td>1.555486e+07</td>\n",
       "      <td>5.470000e+06</td>\n",
       "      <td>1.478500e+07</td>\n",
       "      <td>1.934000e+07</td>\n",
       "      <td>2.711500e+07</td>\n",
       "      <td>2.304100e+08</td>\n",
       "    </tr>\n",
       "    <tr>\n",
       "      <th>Gold_Vol.</th>\n",
       "      <td>1241.0</td>\n",
       "      <td>2.111277e+05</td>\n",
       "      <td>1.150064e+05</td>\n",
       "      <td>0.000000e+00</td>\n",
       "      <td>1.522000e+05</td>\n",
       "      <td>1.979700e+05</td>\n",
       "      <td>2.579200e+05</td>\n",
       "      <td>8.134100e+05</td>\n",
       "    </tr>\n",
       "  </tbody>\n",
       "</table>\n",
       "</div>"
      ],
      "text/plain": [
       "                    count          mean           std           min  \\\n",
       "Index              1243.0  6.210000e+02  3.589675e+02  0.000000e+00   \n",
       "Natural_Gas_Price  1243.0  3.494714e+00  1.822540e+00  1.482000e+00   \n",
       "Natural_Gas_Vol.   1239.0  1.316241e+05  6.438514e+04  1.200000e+03   \n",
       "Crude_oil_Price    1243.0  6.757706e+01  2.046550e+01 -3.763000e+01   \n",
       "Crude_oil_Vol.     1220.0  3.989038e+05  2.161619e+05  1.702000e+04   \n",
       "Copper_Price       1243.0  3.541957e+00  7.028187e-01  2.100500e+00   \n",
       "Copper_Vol.        1206.0  3.540662e+04  3.841545e+04  1.000000e+01   \n",
       "Bitcoin_Vol.       1243.0  4.033918e+07  2.940889e+08  2.600000e+02   \n",
       "Platinum_Vol.       636.0  9.082516e+03  8.876539e+03  0.000000e+00   \n",
       "Ethereum_Vol.      1243.0  1.801563e+07  1.326933e+08  7.518000e+04   \n",
       "Nasdaq_100_Vol.    1242.0  2.238827e+08  8.246992e+07  5.047000e+07   \n",
       "Apple_Price        1243.0  1.255665e+02  4.611412e+01  4.236000e+01   \n",
       "Apple_Vol.         1243.0  9.981845e+07  5.208192e+07  2.404000e+07   \n",
       "Tesla_Price        1243.0  1.735904e+02  1.066881e+02  1.193000e+01   \n",
       "Tesla_Vol.         1243.0  1.341790e+08  8.509129e+07  2.940000e+07   \n",
       "Microsoft_Price    1243.0  2.412401e+02  7.342984e+01  1.052500e+02   \n",
       "Microsoft_Vol.     1243.0  2.920801e+07  1.236710e+07  8.990000e+06   \n",
       "Silver_Price       1243.0  2.158898e+01  3.859288e+00  1.177200e+01   \n",
       "Silver_Vol.        1196.0  6.769542e+04  3.807885e+04  0.000000e+00   \n",
       "Google_Price       1243.0  9.967083e+01  2.976689e+01  5.194000e+01   \n",
       "Google_Vol.        1243.0  3.351599e+07  1.507215e+07  9.310000e+06   \n",
       "Nvidia_Price       1243.0  1.872858e+02  1.346799e+02  3.345000e+01   \n",
       "Nvidia_Vol.        1243.0  4.560298e+07  1.869107e+07  9.790000e+06   \n",
       "Berkshire_Vol.     1243.0  2.426525e+03  2.660498e+03  8.000000e+01   \n",
       "Netflix_Price      1243.0  4.048395e+02  1.149895e+02  1.663700e+02   \n",
       "Netflix_Vol.       1243.0  7.057401e+06  6.384187e+06  1.140000e+06   \n",
       "Amazon_Price       1243.0  1.286832e+02  3.080863e+01  7.941000e+01   \n",
       "Amazon_Vol.        1243.0  7.413005e+07  3.245753e+07  1.763000e+07   \n",
       "Meta_Price         1243.0  2.397281e+02  7.101543e+01  8.891000e+01   \n",
       "Meta_Vol.          1243.0  2.325851e+07  1.555486e+07  5.470000e+06   \n",
       "Gold_Vol.          1241.0  2.111277e+05  1.150064e+05  0.000000e+00   \n",
       "\n",
       "                            25%           50%           75%           max  \n",
       "Index              3.105000e+02  6.210000e+02  9.315000e+02  1.242000e+03  \n",
       "Natural_Gas_Price  2.347500e+00  2.702000e+00  4.055500e+00  9.647000e+00  \n",
       "Natural_Gas_Vol.   9.190000e+04  1.273700e+05  1.694600e+05  3.819700e+05  \n",
       "Crude_oil_Price    5.509500e+01  6.923000e+01  8.045500e+01  1.237000e+02  \n",
       "Crude_oil_Vol.     2.835975e+05  3.668850e+05  5.072425e+05  1.770000e+06  \n",
       "Copper_Price       2.858750e+00  3.666000e+00  4.137250e+00  4.937500e+00  \n",
       "Copper_Vol.        3.700000e+02  1.018000e+04  6.834000e+04  1.760400e+05  \n",
       "Bitcoin_Vol.       7.907500e+04  2.153100e+05  6.151050e+05  4.470000e+09  \n",
       "Platinum_Vol.      1.120000e+03  6.070000e+03  1.528750e+04  4.283000e+04  \n",
       "Ethereum_Vol.      5.883600e+05  1.570000e+06  9.365000e+06  1.790000e+09  \n",
       "Nasdaq_100_Vol.    1.715275e+08  2.116200e+08  2.559850e+08  9.825600e+08  \n",
       "Apple_Price        7.950500e+01  1.367600e+02  1.629150e+02  1.981100e+02  \n",
       "Apple_Vol.         6.599000e+07  8.749000e+07  1.170750e+08  4.268800e+08  \n",
       "Tesla_Price        5.333500e+01  2.020700e+02  2.514700e+02  4.099700e+02  \n",
       "Tesla_Vol.         8.136000e+07  1.095200e+08  1.578300e+08  9.140800e+08  \n",
       "Microsoft_Price    1.825250e+02  2.453800e+02  2.971200e+02  4.112200e+02  \n",
       "Microsoft_Vol.     2.153500e+07  2.610000e+07  3.317500e+07  9.707000e+07  \n",
       "Silver_Price       1.799850e+01  2.275800e+01  2.451200e+01  2.941800e+01  \n",
       "Silver_Vol.        4.815000e+04  6.294000e+04  7.910000e+04  3.552800e+05  \n",
       "Google_Price       7.118500e+01  1.012400e+02  1.272050e+02  1.535100e+02  \n",
       "Google_Vol.        2.410500e+07  2.973000e+07  3.735500e+07  1.331800e+08  \n",
       "Nvidia_Price       7.390500e+01  1.515900e+02  2.421400e+02  6.616000e+02  \n",
       "Nvidia_Vol.        3.245000e+07  4.279000e+07  5.511500e+07  1.534600e+08  \n",
       "Berkshire_Vol.     3.450000e+02  1.510000e+03  3.225000e+03  1.385000e+04  \n",
       "Netflix_Price      3.230100e+02  3.841500e+02  4.953650e+02  6.916900e+02  \n",
       "Netflix_Vol.       3.990000e+06  5.610000e+06  7.910000e+06  1.333900e+08  \n",
       "Amazon_Price       9.626000e+01  1.287300e+02  1.581100e+02  1.865700e+02  \n",
       "Amazon_Vol.        5.264500e+07  6.520000e+07  8.674500e+07  3.113500e+08  \n",
       "Meta_Price         1.833550e+02  2.244300e+02  3.016500e+02  4.749900e+02  \n",
       "Meta_Vol.          1.478500e+07  1.934000e+07  2.711500e+07  2.304100e+08  \n",
       "Gold_Vol.          1.522000e+05  1.979700e+05  2.579200e+05  8.134100e+05  "
      ]
     },
     "execution_count": 7,
     "metadata": {},
     "output_type": "execute_result"
    }
   ],
   "source": [
    "# .T transform rows as columns and vice-versa\n",
    "df.describe().T"
   ]
  },
  {
   "cell_type": "code",
   "execution_count": 8,
   "id": "df33f6e8",
   "metadata": {},
   "outputs": [
    {
     "data": {
      "text/plain": [
       "<bound method NDFrame.head of       Index        Date  Natural_Gas_Price  Natural_Gas_Vol.  Crude_oil_Price  \\\n",
       "0         0  02-02-2024              2.079               NaN            72.28   \n",
       "1         1  01-02-2024              2.050          161340.0            73.82   \n",
       "2         2  31-01-2024              2.100          142860.0            75.85   \n",
       "3         3  30-01-2024              2.077          139750.0            77.82   \n",
       "4         4  29-01-2024              2.490            3590.0            76.78   \n",
       "...     ...         ...                ...               ...              ...   \n",
       "1238   1238  08-02-2019              2.583          147880.0            52.72   \n",
       "1239   1239  07-02-2019              2.551          211790.0            52.64   \n",
       "1240   1240  06-02-2019              2.662           98330.0            54.01   \n",
       "1241   1241  05-02-2019              2.662           82250.0            53.66   \n",
       "1242   1242  04-02-2019              2.660          116490.0            54.56   \n",
       "\n",
       "      Crude_oil_Vol.  Copper_Price  Copper_Vol. Bitcoin_Price  Bitcoin_Vol.  \\\n",
       "0                NaN        3.8215          NaN     43,194.70         42650   \n",
       "1           577940.0        3.8535          NaN     43,081.40         47690   \n",
       "2           344490.0        3.9060          NaN     42,580.50         56480   \n",
       "3           347240.0        3.9110          NaN     42,946.20         55130   \n",
       "4           331930.0        3.8790          NaN     43,299.80         45230   \n",
       "...              ...           ...          ...           ...           ...   \n",
       "1238        621000.0        2.8140        270.0      3,661.70        699230   \n",
       "1239        749010.0        2.8320        320.0      3,397.70        471360   \n",
       "1240        606720.0        2.8400        100.0      3,404.30        514210   \n",
       "1241        609760.0        2.8205         90.0      3,468.40        460950   \n",
       "1242        622470.0        2.7975        490.0      3,462.80        503920   \n",
       "\n",
       "      ... Berkshire_Price  Berkshire_Vol. Netflix_Price  Netflix_Vol.  \\\n",
       "0     ...        5,89,498           10580        564.64       4030000   \n",
       "1     ...        5,81,600            9780        567.51       3150000   \n",
       "2     ...        5,78,020            9720        564.11       4830000   \n",
       "3     ...        5,84,680            9750        562.85       6120000   \n",
       "4     ...        5,78,800           13850        575.79       6880000   \n",
       "...   ...             ...             ...           ...           ...   \n",
       "1238  ...        3,00,771             240        347.57       7560000   \n",
       "1239  ...        3,02,813             240        344.71       7860000   \n",
       "1240  ...        3,08,810             120        352.19       6720000   \n",
       "1241  ...        3,10,700             360        355.81       9050000   \n",
       "1242  ...        3,12,000             310        351.34       9050000   \n",
       "\n",
       "     Amazon_Price Amazon_Vol.  Meta_Price  Meta_Vol.  Gold_Price  Gold_Vol.  \n",
       "0          171.81   117220000      474.99   84710000    2,053.70        NaN  \n",
       "1          159.28    66360000      394.78   25140000    2,071.10   260920.0  \n",
       "2          155.20    49690000      390.14   20010000    2,067.40   238370.0  \n",
       "3          159.00    42290000      400.06   18610000    2,050.90   214590.0  \n",
       "4          161.26    42840000      401.02   17790000    2,034.90     1780.0  \n",
       "...           ...         ...         ...        ...         ...        ...  \n",
       "1238        79.41   113150000      167.33   12560000    1,318.50   150610.0  \n",
       "1239        80.72    92530000      166.38   17520000    1,314.20   166760.0  \n",
       "1240        82.01    78800000      170.49   13280000    1,314.40   137250.0  \n",
       "1241        82.94    89060000      171.16   22560000    1,319.20   129010.0  \n",
       "1242        81.67    98580000      169.25   20040000    1,319.30   159560.0  \n",
       "\n",
       "[1243 rows x 39 columns]>"
      ]
     },
     "execution_count": 8,
     "metadata": {},
     "output_type": "execute_result"
    }
   ],
   "source": [
    "df.head"
   ]
  },
  {
   "cell_type": "code",
   "execution_count": 9,
   "id": "9a262e74",
   "metadata": {},
   "outputs": [],
   "source": [
    "#Drop row and column where all values are null\n",
    "df.dropna(axis = 1, how = \"all\", inplace = True)"
   ]
  },
  {
   "cell_type": "code",
   "execution_count": 10,
   "id": "2c01d295",
   "metadata": {},
   "outputs": [
    {
     "data": {
      "text/plain": [
       "(1243, 39)"
      ]
     },
     "execution_count": 10,
     "metadata": {},
     "output_type": "execute_result"
    }
   ],
   "source": [
    "df.shape"
   ]
  },
  {
   "cell_type": "code",
   "execution_count": 10,
   "id": "d9bb887c",
   "metadata": {},
   "outputs": [],
   "source": [
    "#To check weather the columns consists unique value\n",
    "list = df.columns[df.nunique() == 1]"
   ]
  },
  {
   "cell_type": "code",
   "execution_count": 11,
   "id": "3fae18dc",
   "metadata": {},
   "outputs": [
    {
     "data": {
      "text/plain": [
       "Index([], dtype='object')"
      ]
     },
     "execution_count": 11,
     "metadata": {},
     "output_type": "execute_result"
    }
   ],
   "source": [
    "list"
   ]
  },
  {
   "cell_type": "code",
   "execution_count": 12,
   "id": "9a4e26d3",
   "metadata": {},
   "outputs": [
    {
     "data": {
      "text/plain": [
       "<Axes: >"
      ]
     },
     "execution_count": 12,
     "metadata": {},
     "output_type": "execute_result"
    },
    {
     "data": {
      "image/png": "[encoded data removed]",
      "text/plain": [
       "<Figure size 640x480 with 1 Axes>"
      ]
     },
     "metadata": {},
     "output_type": "display_data"
    }
   ],
   "source": [
    "sns.boxplot(df.Crude_oil_Price)"
   ]
  },
  {
   "cell_type": "code",
   "execution_count": 13,
   "id": "6672b566",
   "metadata": {},
   "outputs": [],
   "source": [
    "# Negative value outlier\n",
    "data = df[df.Crude_oil_Price < 0]"
   ]
  },
  {
   "cell_type": "code",
   "execution_count": 14,
   "id": "612e6e46",
   "metadata": {},
   "outputs": [
    {
     "data": {
      "text/html": [
       "<div>\n",
       "<style scoped>\n",
       "    .dataframe tbody tr th:only-of-type {\n",
       "        vertical-align: middle;\n",
       "    }\n",
       "\n",
       "    .dataframe tbody tr th {\n",
       "        vertical-align: top;\n",
       "    }\n",
       "\n",
       "    .dataframe thead th {\n",
       "        text-align: right;\n",
       "    }\n",
       "</style>\n",
       "<table border=\"1\" class=\"dataframe\">\n",
       "  <thead>\n",
       "    <tr style=\"text-align: right;\">\n",
       "      <th></th>\n",
       "      <th>Index</th>\n",
       "      <th>Date</th>\n",
       "      <th>Natural_Gas_Price</th>\n",
       "      <th>Natural_Gas_Vol.</th>\n",
       "      <th>Crude_oil_Price</th>\n",
       "      <th>Crude_oil_Vol.</th>\n",
       "      <th>Copper_Price</th>\n",
       "      <th>Copper_Vol.</th>\n",
       "      <th>Bitcoin_Price</th>\n",
       "      <th>Bitcoin_Vol.</th>\n",
       "      <th>...</th>\n",
       "      <th>Berkshire_Price</th>\n",
       "      <th>Berkshire_Vol.</th>\n",
       "      <th>Netflix_Price</th>\n",
       "      <th>Netflix_Vol.</th>\n",
       "      <th>Amazon_Price</th>\n",
       "      <th>Amazon_Vol.</th>\n",
       "      <th>Meta_Price</th>\n",
       "      <th>Meta_Vol.</th>\n",
       "      <th>Gold_Price</th>\n",
       "      <th>Gold_Vol.</th>\n",
       "    </tr>\n",
       "  </thead>\n",
       "  <tbody>\n",
       "    <tr>\n",
       "      <th>938</th>\n",
       "      <td>938</td>\n",
       "      <td>20-04-2020</td>\n",
       "      <td>1.924</td>\n",
       "      <td>229820.0</td>\n",
       "      <td>-37.63</td>\n",
       "      <td>247950.0</td>\n",
       "      <td>2.328</td>\n",
       "      <td>1260.0</td>\n",
       "      <td>6,833.50</td>\n",
       "      <td>1260000</td>\n",
       "      <td>...</td>\n",
       "      <td>2,82,800</td>\n",
       "      <td>720</td>\n",
       "      <td>437.49</td>\n",
       "      <td>12660000</td>\n",
       "      <td>119.68</td>\n",
       "      <td>115410000</td>\n",
       "      <td>178.24</td>\n",
       "      <td>16110000</td>\n",
       "      <td>1,711.20</td>\n",
       "      <td>186910.0</td>\n",
       "    </tr>\n",
       "  </tbody>\n",
       "</table>\n",
       "<p>1 rows × 39 columns</p>\n",
       "</div>"
      ],
      "text/plain": [
       "     Index        Date  Natural_Gas_Price  Natural_Gas_Vol.  Crude_oil_Price  \\\n",
       "938    938  20-04-2020              1.924          229820.0           -37.63   \n",
       "\n",
       "     Crude_oil_Vol.  Copper_Price  Copper_Vol. Bitcoin_Price  Bitcoin_Vol.  \\\n",
       "938        247950.0         2.328       1260.0      6,833.50       1260000   \n",
       "\n",
       "     ... Berkshire_Price  Berkshire_Vol. Netflix_Price  Netflix_Vol.  \\\n",
       "938  ...        2,82,800             720        437.49      12660000   \n",
       "\n",
       "    Amazon_Price Amazon_Vol.  Meta_Price  Meta_Vol.  Gold_Price  Gold_Vol.  \n",
       "938       119.68   115410000      178.24   16110000    1,711.20   186910.0  \n",
       "\n",
       "[1 rows x 39 columns]"
      ]
     },
     "execution_count": 14,
     "metadata": {},
     "output_type": "execute_result"
    }
   ],
   "source": [
    "data"
   ]
  },
  {
   "cell_type": "code",
   "execution_count": 14,
   "id": "221340cf",
   "metadata": {},
   "outputs": [
    {
     "data": {
      "text/plain": [
       "(1243, 39)"
      ]
     },
     "execution_count": 14,
     "metadata": {},
     "output_type": "execute_result"
    }
   ],
   "source": [
    "df.shape"
   ]
  },
  {
   "cell_type": "code",
   "execution_count": 15,
   "id": "2f9d1404",
   "metadata": {},
   "outputs": [],
   "source": [
    "# Faster than drop \n",
    "df = df[df.Crude_oil_Price >= 0]"
   ]
  },
  {
   "cell_type": "code",
   "execution_count": 16,
   "id": "1a76eb48",
   "metadata": {},
   "outputs": [
    {
     "data": {
      "text/plain": [
       "(1242, 39)"
      ]
     },
     "execution_count": 16,
     "metadata": {},
     "output_type": "execute_result"
    }
   ],
   "source": [
    "df.shape"
   ]
  },
  {
   "cell_type": "code",
   "execution_count": 17,
   "id": "72e9837c",
   "metadata": {},
   "outputs": [
    {
     "data": {
      "text/plain": [
       "<Axes: >"
      ]
     },
     "execution_count": 17,
     "metadata": {},
     "output_type": "execute_result"
    },
    {
     "data": {
      "image/png": "[encoded data removed]",
      "text/plain": [
       "<Figure size 640x480 with 1 Axes>"
      ]
     },
     "metadata": {},
     "output_type": "display_data"
    }
   ],
   "source": [
    "sns.boxplot(df.Crude_oil_Price)"
   ]
  },
  {
   "cell_type": "code",
   "execution_count": 18,
   "id": "78bf277a",
   "metadata": {},
   "outputs": [
    {
     "data": {
      "text/plain": [
       "Index(['Index', 'Date', 'Natural_Gas_Price', 'Natural_Gas_Vol.',\n",
       "       'Crude_oil_Price', 'Crude_oil_Vol.', 'Copper_Price', 'Copper_Vol.',\n",
       "       'Bitcoin_Price', 'Bitcoin_Vol.', 'Platinum_Price', 'Platinum_Vol.',\n",
       "       'Ethereum_Price', 'Ethereum_Vol.', 'S&P_500_Price', 'Nasdaq_100_Price',\n",
       "       'Nasdaq_100_Vol.', 'Apple_Price', 'Apple_Vol.', 'Tesla_Price',\n",
       "       'Tesla_Vol.', 'Microsoft_Price', 'Microsoft_Vol.', 'Silver_Price',\n",
       "       'Silver_Vol.', 'Google_Price', 'Google_Vol.', 'Nvidia_Price',\n",
       "       'Nvidia_Vol.', 'Berkshire_Price', 'Berkshire_Vol.', 'Netflix_Price',\n",
       "       'Netflix_Vol.', 'Amazon_Price', 'Amazon_Vol.', 'Meta_Price',\n",
       "       'Meta_Vol.', 'Gold_Price', 'Gold_Vol.'],\n",
       "      dtype='object')"
      ]
     },
     "execution_count": 18,
     "metadata": {},
     "output_type": "execute_result"
    }
   ],
   "source": [
    "df.columns"
   ]
  },
  {
   "cell_type": "code",
   "execution_count": 19,
   "id": "fc60a5fd",
   "metadata": {},
   "outputs": [
    {
     "data": {
      "text/plain": [
       "<Axes: >"
      ]
     },
     "execution_count": 19,
     "metadata": {},
     "output_type": "execute_result"
    },
    {
     "data": {
      "image/png": "[encoded data removed]",
      "text/plain": [
       "<Figure size 640x480 with 1 Axes>"
      ]
     },
     "metadata": {},
     "output_type": "display_data"
    }
   ],
   "source": [
    "sns.boxplot(df.Natural_Gas_Price)"
   ]
  },
  {
   "cell_type": "code",
   "execution_count": 20,
   "id": "75783462",
   "metadata": {},
   "outputs": [],
   "source": [
    "df = df[df.Natural_Gas_Price<=8]"
   ]
  },
  {
   "cell_type": "code",
   "execution_count": 21,
   "id": "3329203d",
   "metadata": {},
   "outputs": [
    {
     "data": {
      "text/plain": [
       "(1189, 39)"
      ]
     },
     "execution_count": 21,
     "metadata": {},
     "output_type": "execute_result"
    }
   ],
   "source": [
    "df.shape"
   ]
  },
  {
   "cell_type": "code",
   "execution_count": 22,
   "id": "dfc7f51f",
   "metadata": {},
   "outputs": [
    {
     "data": {
      "text/plain": [
       "<Axes: >"
      ]
     },
     "execution_count": 22,
     "metadata": {},
     "output_type": "execute_result"
    },
    {
     "data": {
      "image/png": "[encoded data removed]",
      "text/plain": [
       "<Figure size 640x480 with 1 Axes>"
      ]
     },
     "metadata": {},
     "output_type": "display_data"
    }
   ],
   "source": [
    "sns.boxplot(df.Natural_Gas_Price)"
   ]
  },
  {
   "cell_type": "code",
   "execution_count": 23,
   "id": "4d6c4750",
   "metadata": {},
   "outputs": [
    {
     "data": {
      "text/plain": [
       "Index(['Index', 'Date', 'Natural_Gas_Price', 'Natural_Gas_Vol.',\n",
       "       'Crude_oil_Price', 'Crude_oil_Vol.', 'Copper_Price', 'Copper_Vol.',\n",
       "       'Bitcoin_Price', 'Bitcoin_Vol.', 'Platinum_Price', 'Platinum_Vol.',\n",
       "       'Ethereum_Price', 'Ethereum_Vol.', 'S&P_500_Price', 'Nasdaq_100_Price',\n",
       "       'Nasdaq_100_Vol.', 'Apple_Price', 'Apple_Vol.', 'Tesla_Price',\n",
       "       'Tesla_Vol.', 'Microsoft_Price', 'Microsoft_Vol.', 'Silver_Price',\n",
       "       'Silver_Vol.', 'Google_Price', 'Google_Vol.', 'Nvidia_Price',\n",
       "       'Nvidia_Vol.', 'Berkshire_Price', 'Berkshire_Vol.', 'Netflix_Price',\n",
       "       'Netflix_Vol.', 'Amazon_Price', 'Amazon_Vol.', 'Meta_Price',\n",
       "       'Meta_Vol.', 'Gold_Price', 'Gold_Vol.'],\n",
       "      dtype='object')"
      ]
     },
     "execution_count": 23,
     "metadata": {},
     "output_type": "execute_result"
    }
   ],
   "source": [
    "df.columns"
   ]
  },
  {
   "cell_type": "code",
   "execution_count": 24,
   "id": "c65701e5",
   "metadata": {},
   "outputs": [],
   "source": [
    "# Create a copy of df into a temporary variable name data\n",
    "data = df[['Index', 'Date', 'Natural_Gas_Price', 'Crude_oil_Price','Apple_Price', 'Tesla_Price']].copy()"
   ]
  },
  {
   "cell_type": "code",
   "execution_count": 25,
   "id": "6dd099fd",
   "metadata": {
    "scrolled": true
   },
   "outputs": [
    {
     "data": {
      "text/html": [
       "<div>\n",
       "<style scoped>\n",
       "    .dataframe tbody tr th:only-of-type {\n",
       "        vertical-align: middle;\n",
       "    }\n",
       "\n",
       "    .dataframe tbody tr th {\n",
       "        vertical-align: top;\n",
       "    }\n",
       "\n",
       "    .dataframe thead th {\n",
       "        text-align: right;\n",
       "    }\n",
       "</style>\n",
       "<table border=\"1\" class=\"dataframe\">\n",
       "  <thead>\n",
       "    <tr style=\"text-align: right;\">\n",
       "      <th></th>\n",
       "      <th>Index</th>\n",
       "      <th>Date</th>\n",
       "      <th>Natural_Gas_Price</th>\n",
       "      <th>Crude_oil_Price</th>\n",
       "      <th>Apple_Price</th>\n",
       "      <th>Tesla_Price</th>\n",
       "    </tr>\n",
       "  </thead>\n",
       "  <tbody>\n",
       "    <tr>\n",
       "      <th>0</th>\n",
       "      <td>0</td>\n",
       "      <td>02-02-2024</td>\n",
       "      <td>2.079</td>\n",
       "      <td>72.28</td>\n",
       "      <td>185.85</td>\n",
       "      <td>187.91</td>\n",
       "    </tr>\n",
       "    <tr>\n",
       "      <th>1</th>\n",
       "      <td>1</td>\n",
       "      <td>01-02-2024</td>\n",
       "      <td>2.050</td>\n",
       "      <td>73.82</td>\n",
       "      <td>186.86</td>\n",
       "      <td>188.86</td>\n",
       "    </tr>\n",
       "    <tr>\n",
       "      <th>2</th>\n",
       "      <td>2</td>\n",
       "      <td>31-01-2024</td>\n",
       "      <td>2.100</td>\n",
       "      <td>75.85</td>\n",
       "      <td>184.40</td>\n",
       "      <td>187.29</td>\n",
       "    </tr>\n",
       "    <tr>\n",
       "      <th>3</th>\n",
       "      <td>3</td>\n",
       "      <td>30-01-2024</td>\n",
       "      <td>2.077</td>\n",
       "      <td>77.82</td>\n",
       "      <td>188.04</td>\n",
       "      <td>191.59</td>\n",
       "    </tr>\n",
       "    <tr>\n",
       "      <th>4</th>\n",
       "      <td>4</td>\n",
       "      <td>29-01-2024</td>\n",
       "      <td>2.490</td>\n",
       "      <td>76.78</td>\n",
       "      <td>191.73</td>\n",
       "      <td>190.93</td>\n",
       "    </tr>\n",
       "  </tbody>\n",
       "</table>\n",
       "</div>"
      ],
      "text/plain": [
       "   Index        Date  Natural_Gas_Price  Crude_oil_Price  Apple_Price  \\\n",
       "0      0  02-02-2024              2.079            72.28       185.85   \n",
       "1      1  01-02-2024              2.050            73.82       186.86   \n",
       "2      2  31-01-2024              2.100            75.85       184.40   \n",
       "3      3  30-01-2024              2.077            77.82       188.04   \n",
       "4      4  29-01-2024              2.490            76.78       191.73   \n",
       "\n",
       "   Tesla_Price  \n",
       "0       187.91  \n",
       "1       188.86  \n",
       "2       187.29  \n",
       "3       191.59  \n",
       "4       190.93  "
      ]
     },
     "execution_count": 25,
     "metadata": {},
     "output_type": "execute_result"
    }
   ],
   "source": [
    "data.head()"
   ]
  },
  {
   "cell_type": "code",
   "execution_count": null,
   "id": "ea28a44f",
   "metadata": {},
   "outputs": [],
   "source": []
  },
  {
   "cell_type": "code",
   "execution_count": 26,
   "id": "8533ba91",
   "metadata": {},
   "outputs": [],
   "source": [
    "# Extracting a feature of year from date\n",
    "data['year'] = pd.DatetimeIndex(data['Date']).year"
   ]
  },
  {
   "cell_type": "code",
   "execution_count": 27,
   "id": "9becf4f2",
   "metadata": {},
   "outputs": [
    {
     "data": {
      "text/plain": [
       "array([2024, 2023, 2022, 2021, 2020, 2019])"
      ]
     },
     "execution_count": 27,
     "metadata": {},
     "output_type": "execute_result"
    }
   ],
   "source": [
    "data['year'].unique()"
   ]
  },
  {
   "cell_type": "code",
   "execution_count": null,
   "id": "147b050f",
   "metadata": {},
   "outputs": [],
   "source": []
  },
  {
   "cell_type": "code",
   "execution_count": 29,
   "id": "70ce9f60",
   "metadata": {},
   "outputs": [],
   "source": [
    "# (Groupby)Grouping data in year category and extracting the max of Natural_Gas_Price\n",
    "df_grp = data.groupby(['year'])['Natural_Gas_Price'].max().reset_index()"
   ]
  },
  {
   "cell_type": "code",
   "execution_count": 30,
   "id": "1099a370",
   "metadata": {},
   "outputs": [],
   "source": [
    "# Grouping data in year category and extracting the max of Crude_oil_Price\n",
    "df_grp['Crude_oil_Price'] = data.groupby(['year'])['Crude_oil_Price'].max().reset_index()['Crude_oil_Price']"
   ]
  },
  {
   "cell_type": "code",
   "execution_count": 31,
   "id": "20386d16",
   "metadata": {},
   "outputs": [],
   "source": [
    "df_grp['Apple_Price'] = data.groupby(['year'])['Apple_Price'].max().reset_index()['Apple_Price']"
   ]
  },
  {
   "cell_type": "code",
   "execution_count": 32,
   "id": "81ce4c2f",
   "metadata": {},
   "outputs": [],
   "source": [
    "df_grp['Tesla_Price'] = data.groupby(['year'])['Tesla_Price'].max().reset_index()['Tesla_Price']"
   ]
  },
  {
   "cell_type": "code",
   "execution_count": 33,
   "id": "4f954779",
   "metadata": {},
   "outputs": [
    {
     "data": {
      "text/html": [
       "<div>\n",
       "<style scoped>\n",
       "    .dataframe tbody tr th:only-of-type {\n",
       "        vertical-align: middle;\n",
       "    }\n",
       "\n",
       "    .dataframe tbody tr th {\n",
       "        vertical-align: top;\n",
       "    }\n",
       "\n",
       "    .dataframe thead th {\n",
       "        text-align: right;\n",
       "    }\n",
       "</style>\n",
       "<table border=\"1\" class=\"dataframe\">\n",
       "  <thead>\n",
       "    <tr style=\"text-align: right;\">\n",
       "      <th></th>\n",
       "      <th>year</th>\n",
       "      <th>Natural_Gas_Price</th>\n",
       "      <th>Crude_oil_Price</th>\n",
       "      <th>Apple_Price</th>\n",
       "      <th>Tesla_Price</th>\n",
       "    </tr>\n",
       "  </thead>\n",
       "  <tbody>\n",
       "    <tr>\n",
       "      <th>0</th>\n",
       "      <td>2019</td>\n",
       "      <td>2.884</td>\n",
       "      <td>66.30</td>\n",
       "      <td>73.41</td>\n",
       "      <td>28.73</td>\n",
       "    </tr>\n",
       "    <tr>\n",
       "      <th>1</th>\n",
       "      <td>2020</td>\n",
       "      <td>3.354</td>\n",
       "      <td>63.27</td>\n",
       "      <td>136.69</td>\n",
       "      <td>235.22</td>\n",
       "    </tr>\n",
       "    <tr>\n",
       "      <th>2</th>\n",
       "      <td>2021</td>\n",
       "      <td>6.312</td>\n",
       "      <td>84.65</td>\n",
       "      <td>180.33</td>\n",
       "      <td>409.97</td>\n",
       "    </tr>\n",
       "    <tr>\n",
       "      <th>3</th>\n",
       "      <td>2022</td>\n",
       "      <td>7.996</td>\n",
       "      <td>123.70</td>\n",
       "      <td>182.01</td>\n",
       "      <td>399.93</td>\n",
       "    </tr>\n",
       "    <tr>\n",
       "      <th>4</th>\n",
       "      <td>2023</td>\n",
       "      <td>4.172</td>\n",
       "      <td>93.68</td>\n",
       "      <td>198.11</td>\n",
       "      <td>293.34</td>\n",
       "    </tr>\n",
       "    <tr>\n",
       "      <th>5</th>\n",
       "      <td>2024</td>\n",
       "      <td>3.313</td>\n",
       "      <td>78.01</td>\n",
       "      <td>195.18</td>\n",
       "      <td>248.42</td>\n",
       "    </tr>\n",
       "  </tbody>\n",
       "</table>\n",
       "</div>"
      ],
      "text/plain": [
       "   year  Natural_Gas_Price  Crude_oil_Price  Apple_Price  Tesla_Price\n",
       "0  2019              2.884            66.30        73.41        28.73\n",
       "1  2020              3.354            63.27       136.69       235.22\n",
       "2  2021              6.312            84.65       180.33       409.97\n",
       "3  2022              7.996           123.70       182.01       399.93\n",
       "4  2023              4.172            93.68       198.11       293.34\n",
       "5  2024              3.313            78.01       195.18       248.42"
      ]
     },
     "execution_count": 33,
     "metadata": {},
     "output_type": "execute_result"
    }
   ],
   "source": [
    "df_grp"
   ]
  },
  {
   "cell_type": "code",
   "execution_count": null,
   "id": "080fa6e5",
   "metadata": {},
   "outputs": [],
   "source": []
  },
  {
   "cell_type": "markdown",
   "id": "9dda22d8",
   "metadata": {},
   "source": [
    "#### Data Visualization"
   ]
  },
  {
   "cell_type": "code",
   "execution_count": 34,
   "id": "09904e4d",
   "metadata": {},
   "outputs": [
    {
     "data": {
      "text/plain": [
       "<Axes: xlabel='year', ylabel='Natural_Gas_Price'>"
      ]
     },
     "execution_count": 34,
     "metadata": {},
     "output_type": "execute_result"
    },
    {
     "data": {
      "image/png": "[encoded data removed]",
      "text/plain": [
       "<Figure size 640x480 with 1 Axes>"
      ]
     },
     "metadata": {},
     "output_type": "display_data"
    }
   ],
   "source": [
    "# As Natural_Gas_Price increases Crude_oil_Price also increases this show that they share a co-relation\n",
    "sns.barplot(x = 'year', y = 'Natural_Gas_Price', hue = 'Crude_oil_Price', data = df_grp)"
   ]
  },
  {
   "cell_type": "code",
   "execution_count": 35,
   "id": "39fe4459",
   "metadata": {},
   "outputs": [
    {
     "data": {
      "text/plain": [
       "<Axes: xlabel='year', ylabel='Natural_Gas_Price'>"
      ]
     },
     "execution_count": 35,
     "metadata": {},
     "output_type": "execute_result"
    },
    {
     "data": {
      "image/png": "[encoded data removed]",
      "text/plain": [
       "<Figure size 640x480 with 1 Axes>"
      ]
     },
     "metadata": {},
     "output_type": "display_data"
    }
   ],
   "source": [
    "sns.lineplot(x = 'year', y = 'Natural_Gas_Price', data = df_grp, palette = 'deep')"
   ]
  },
  {
   "cell_type": "code",
   "execution_count": 36,
   "id": "82b1dd56",
   "metadata": {},
   "outputs": [
    {
     "data": {
      "text/plain": [
       "<Axes: xlabel='year', ylabel='Crude_oil_Price'>"
      ]
     },
     "execution_count": 36,
     "metadata": {},
     "output_type": "execute_result"
    },
    {
     "data": {
      "image/png": "[encoded data removed]",
      "text/plain": [
       "<Figure size 640x480 with 1 Axes>"
      ]
     },
     "metadata": {},
     "output_type": "display_data"
    }
   ],
   "source": [
    "sns.lineplot(x = 'year', y = 'Crude_oil_Price', data = df_grp, palette = 'deep')"
   ]
  },
  {
   "cell_type": "code",
   "execution_count": 37,
   "id": "139447b5",
   "metadata": {},
   "outputs": [
    {
     "data": {
      "text/plain": [
       "<Axes: xlabel='year', ylabel='Apple_Price'>"
      ]
     },
     "execution_count": 37,
     "metadata": {},
     "output_type": "execute_result"
    },
    {
     "data": {
      "image/png": "[encoded data removed]",
      "text/plain": [
       "<Figure size 640x480 with 1 Axes>"
      ]
     },
     "metadata": {},
     "output_type": "display_data"
    }
   ],
   "source": [
    "sns.lineplot(x = 'year', y = 'Apple_Price', data = df_grp, palette = 'deep')"
   ]
  },
  {
   "cell_type": "code",
   "execution_count": 38,
   "id": "73b3c4f0",
   "metadata": {},
   "outputs": [
    {
     "data": {
      "text/plain": [
       "<Axes: xlabel='year', ylabel='Tesla_Price'>"
      ]
     },
     "execution_count": 38,
     "metadata": {},
     "output_type": "execute_result"
    },
    {
     "data": {
      "image/png": "[encoded data removed]",
      "text/plain": [
       "<Figure size 640x480 with 1 Axes>"
      ]
     },
     "metadata": {},
     "output_type": "display_data"
    }
   ],
   "source": [
    "sns.lineplot(x = 'year', y = 'Tesla_Price', data = df_grp, palette = 'deep')"
   ]
  },
  {
   "cell_type": "code",
   "execution_count": 39,
   "id": "56933d24",
   "metadata": {},
   "outputs": [],
   "source": [
    " data.to_csv(\"sample_02_03.csv\", encoding = 'utf-8')"
   ]
  },
  {
   "cell_type": "code",
   "execution_count": null,
   "id": "b6322897",
   "metadata": {},
   "outputs": [],
   "source": []
  },
  {
   "cell_type": "code",
   "execution_count": 40,
   "id": "52a5de1f",
   "metadata": {},
   "outputs": [],
   "source": [
    "df_grp1 = data.groupby(['year'])['Natural_Gas_Price'].min().reset_index()"
   ]
  },
  {
   "cell_type": "code",
   "execution_count": 41,
   "id": "65eefe8a",
   "metadata": {},
   "outputs": [],
   "source": [
    "df_grp1['Crude_oil_Price'] = data.groupby(['year'])['Crude_oil_Price'].min().reset_index()['Crude_oil_Price']"
   ]
  },
  {
   "cell_type": "code",
   "execution_count": 49,
   "id": "a2d9949c",
   "metadata": {},
   "outputs": [],
   "source": [
    "df_grp1['Apple_Price'] = data.groupby(['year'])['Apple_Price'].median().reset_index()['Apple_Price']"
   ]
  },
  {
   "cell_type": "code",
   "execution_count": 50,
   "id": "30218620",
   "metadata": {},
   "outputs": [],
   "source": [
    "df_grp1['Tesla_Price'] = data.groupby(['year'])['Tesla_Price'].median().reset_index()['Tesla_Price']"
   ]
  },
  {
   "cell_type": "code",
   "execution_count": 51,
   "id": "f61ad861",
   "metadata": {},
   "outputs": [
    {
     "data": {
      "text/html": [
       "<div>\n",
       "<style scoped>\n",
       "    .dataframe tbody tr th:only-of-type {\n",
       "        vertical-align: middle;\n",
       "    }\n",
       "\n",
       "    .dataframe tbody tr th {\n",
       "        vertical-align: top;\n",
       "    }\n",
       "\n",
       "    .dataframe thead th {\n",
       "        text-align: right;\n",
       "    }\n",
       "</style>\n",
       "<table border=\"1\" class=\"dataframe\">\n",
       "  <thead>\n",
       "    <tr style=\"text-align: right;\">\n",
       "      <th></th>\n",
       "      <th>year</th>\n",
       "      <th>Natural_Gas_Price</th>\n",
       "      <th>Crude_oil_Price</th>\n",
       "      <th>Apple_Price</th>\n",
       "      <th>Tesla_Price</th>\n",
       "    </tr>\n",
       "  </thead>\n",
       "  <tbody>\n",
       "    <tr>\n",
       "      <th>0</th>\n",
       "      <td>2019</td>\n",
       "      <td>2.070</td>\n",
       "      <td>51.09</td>\n",
       "      <td>51.110</td>\n",
       "      <td>16.995</td>\n",
       "    </tr>\n",
       "    <tr>\n",
       "      <th>1</th>\n",
       "      <td>2020</td>\n",
       "      <td>1.482</td>\n",
       "      <td>10.01</td>\n",
       "      <td>91.420</td>\n",
       "      <td>77.610</td>\n",
       "    </tr>\n",
       "    <tr>\n",
       "      <th>2</th>\n",
       "      <td>2021</td>\n",
       "      <td>2.446</td>\n",
       "      <td>47.62</td>\n",
       "      <td>141.305</td>\n",
       "      <td>243.195</td>\n",
       "    </tr>\n",
       "    <tr>\n",
       "      <th>3</th>\n",
       "      <td>2022</td>\n",
       "      <td>3.717</td>\n",
       "      <td>71.50</td>\n",
       "      <td>152.540</td>\n",
       "      <td>266.800</td>\n",
       "    </tr>\n",
       "    <tr>\n",
       "      <th>4</th>\n",
       "      <td>2023</td>\n",
       "      <td>1.991</td>\n",
       "      <td>66.74</td>\n",
       "      <td>175.475</td>\n",
       "      <td>222.145</td>\n",
       "    </tr>\n",
       "    <tr>\n",
       "      <th>5</th>\n",
       "      <td>2024</td>\n",
       "      <td>2.050</td>\n",
       "      <td>70.38</td>\n",
       "      <td>185.920</td>\n",
       "      <td>212.190</td>\n",
       "    </tr>\n",
       "  </tbody>\n",
       "</table>\n",
       "</div>"
      ],
      "text/plain": [
       "   year  Natural_Gas_Price  Crude_oil_Price  Apple_Price  Tesla_Price\n",
       "0  2019              2.070            51.09       51.110       16.995\n",
       "1  2020              1.482            10.01       91.420       77.610\n",
       "2  2021              2.446            47.62      141.305      243.195\n",
       "3  2022              3.717            71.50      152.540      266.800\n",
       "4  2023              1.991            66.74      175.475      222.145\n",
       "5  2024              2.050            70.38      185.920      212.190"
      ]
     },
     "execution_count": 51,
     "metadata": {},
     "output_type": "execute_result"
    }
   ],
   "source": [
    "df_grp1"
   ]
  },
  {
   "cell_type": "code",
   "execution_count": 46,
   "id": "8e363acb",
   "metadata": {},
   "outputs": [
    {
     "data": {
      "text/plain": [
       "<Axes: xlabel='year', ylabel='Natural_Gas_Price'>"
      ]
     },
     "execution_count": 46,
     "metadata": {},
     "output_type": "execute_result"
    },
    {
     "data": {
      "image/png": "[encoded data removed]",
      "text/plain": [
       "<Figure size 640x480 with 1 Axes>"
      ]
     },
     "metadata": {},
     "output_type": "display_data"
    }
   ],
   "source": [
    "sns.lineplot(x = 'year', y = 'Natural_Gas_Price', data = df_grp1, palette = 'deep')"
   ]
  },
  {
   "cell_type": "code",
   "execution_count": 53,
   "id": "39e20879",
   "metadata": {},
   "outputs": [
    {
     "data": {
      "text/plain": [
       "<Axes: xlabel='year', ylabel='Apple_Price'>"
      ]
     },
     "execution_count": 53,
     "metadata": {},
     "output_type": "execute_result"
    },
    {
     "data": {
      "image/png": "[encoded data removed]",
      "text/plain": [
       "<Figure size 640x480 with 1 Axes>"
      ]
     },
     "metadata": {},
     "output_type": "display_data"
    }
   ],
   "source": [
    "sns.lineplot(x = 'year', y = 'Apple_Price', data = df_grp1, palette = 'deep')"
   ]
  },
  {
   "cell_type": "code",
   "execution_count": null,
   "id": "f91f4c84",
   "metadata": {},
   "outputs": [],
   "source": []
  }
 ],
 "metadata": {
  "kernelspec": {
   "display_name": "Python 3 (ipykernel)",
   "language": "python",
   "name": "python3"
  },
  "language_info": {
   "codemirror_mode": {
    "name": "ipython",
    "version": 3
   },
   "file_extension": ".py",
   "mimetype": "text/x-python",
   "name": "python",
   "nbconvert_exporter": "python",
   "pygments_lexer": "ipython3",
   "version": "3.11.5"
  }
 },
 "nbformat": 4,
 "nbformat_minor": 5
}

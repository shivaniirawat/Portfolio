{
 "cells": [
  {
   "cell_type": "code",
   "execution_count": 1,
   "id": "33354611",
   "metadata": {},
   "outputs": [
    {
     "name": "stdout",
     "output_type": "stream",
     "text": [
      "How many times do you want to throw a dice?(1-3):2\n",
      "Let's start the game!\n",
      "You got: 6\n",
      "You got: 6\n",
      "\n",
      "Your Total is: 12\n",
      "\n",
      "Now its my turn\n",
      "I got: 4\n",
      "I got: 5\n",
      "My Total is: 9\n",
      "\n",
      "YOU WIN\n",
      "Do you want to continue? (Y/N)\n",
      "n\n",
      "It was nice playing with you! Byee!\n"
     ]
    }
   ],
   "source": [
    "import random\n",
    "import time as t\n",
    "\n",
    "def play():\n",
    "    dice=0\n",
    "    roll=\" \"\n",
    "\n",
    "    while dice==0:\n",
    "        choice=int(input(\"How many times do you want to throw a dice?(1-3):\"))\n",
    "        if choice>0 and choice<4:\n",
    "            action(choice)\n",
    "            break\n",
    "        else:\n",
    "            print(\"Please enter a valid choice.\")\n",
    "\n",
    "    print(\"Do you want to continue? (Y/N)\")\n",
    "    while roll!=\"Y\":\n",
    "        roll=input().capitalize()\n",
    "        if roll==\"Y\":\n",
    "            play()\n",
    "        else:\n",
    "            print(\"It was nice playing with you! Byee!\")\n",
    "            break\n",
    "\n",
    "def action(choice):\n",
    "    sum_h=sum_b=0\n",
    "    print(\"Let's start the game!\")\n",
    "    t.sleep(1)\n",
    "\n",
    "    for dice in range(0, choice):\n",
    "        human=random.randint(1,6)\n",
    "        t.sleep(1)\n",
    "        print(\"You got:\",human)\n",
    "        sum_h+=human\n",
    "\n",
    "    t.sleep(1)\n",
    "    print(\"\\nYour Total is:\",sum_h)\n",
    "    t.sleep(1)\n",
    "    print(\"\\nNow its my turn\")\n",
    "    t.sleep(1)\n",
    "\n",
    "    for dice in range(0, choice):\n",
    "        bot=random.randint(1,6)\n",
    "        t.sleep(1)\n",
    "        print(\"I got:\",bot)\n",
    "        sum_b+=bot\n",
    "        \n",
    "    t.sleep(1)\n",
    "    print(\"My Total is:\",sum_b)\n",
    "    t.sleep(2)\n",
    "\n",
    "    result=\"\\nYOU WIN\" if sum_h>sum_b else \"\\nI WON\" if sum_h<sum_b else \"IT'S A TIE\"\n",
    "    print(result)\n",
    "\n",
    "play()\n"
   ]
  },
  {
   "cell_type": "code",
   "execution_count": null,
   "id": "1d5e9637",
   "metadata": {},
   "outputs": [],
   "source": []
  }
 ],
 "metadata": {
  "kernelspec": {
   "display_name": "Python 3 (ipykernel)",
   "language": "python",
   "name": "python3"
  },
  "language_info": {
   "codemirror_mode": {
    "name": "ipython",
    "version": 3
   },
   "file_extension": ".py",
   "mimetype": "text/x-python",
   "name": "python",
   "nbconvert_exporter": "python",
   "pygments_lexer": "ipython3",
   "version": "3.11.5"
  }
 },
 "nbformat": 4,
 "nbformat_minor": 5
}

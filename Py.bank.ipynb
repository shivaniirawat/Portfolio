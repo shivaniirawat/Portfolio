{
 "cells": [
  {
   "cell_type": "code",
   "execution_count": 11,
   "id": "54fb034c",
   "metadata": {},
   "outputs": [
    {
     "name": "stdout",
     "output_type": "stream",
     "text": [
      "Transaction Complete.\n",
      "Amount Successfully Withdrawn\n",
      "Available Balance :  4800\n"
     ]
    }
   ],
   "source": [
    "from tkinter import *\n",
    "import time as t\n",
    "\n",
    "class Customer:\n",
    "\n",
    "    def __init__(self):\n",
    "        self.balance = 5000\n",
    "\n",
    "    def withdraw(self, Amount):\n",
    "        if self.balance - Amount > 500:\n",
    "            self.balance -= Amount\n",
    "            t.sleep(1)\n",
    "            print(\"Transaction Complete.\\nAmount Successfully Withdrawn\")\n",
    "            t.sleep(2)\n",
    "            print(\"Available Balance : \", self.balance)\n",
    "        else:\n",
    "            print(\"Insufficient Balance.\\nYou have to keep at least Rs500 in your account.\")\n",
    "\n",
    "\n",
    "    def deposit(self,Amount):\n",
    "        self.balance+=Amount\n",
    "        t.sleep(1)\n",
    "        print(\"Transaction Complete.\\nAmount Successfully Deposited\")\n",
    "        t.sleep(2)\n",
    "        print()\n",
    "        print(\"Available Balance : \",self.balance)\n",
    "\n",
    "    def view_balance(self):\n",
    "        print(\"Account Balance : \", self.balance)\n",
    "\n",
    "    def money(self, win):\n",
    "        blck_wn = Toplevel(win)\n",
    "        blck_wn.title(\"SBI\")\n",
    "        Label(blck_wn, text='Please Enter Amount').pack()\n",
    "        entry_amount = Entry(blck_wn)\n",
    "        entry_amount.pack()\n",
    "        Button(blck_wn, text='Submit', bg='green', pady=5, command=lambda: self.withdraw(int(entry_amount.get())),\n",
    "               width=6).pack()\n",
    "\n",
    "# Create an instance of the Customer class\n",
    "customer_instance = Customer()\n",
    "\n",
    "root = Tk()\n",
    "root.title('SBI')\n",
    "root.geometry('400x300')\n",
    "Label(root, text='STATE  BANK  OF  INDIA').pack()\n",
    "\n",
    "# Pass the instance method as a lambda function to the command parameter\n",
    "Button(root, text='Withdrawal', command=lambda: customer_instance.money(root)).pack()\n",
    "Button(root, text='Deposit', command=lambda: customer_instance.money(root)).pack()\n",
    "Button(root, text='View Balance', command=customer_instance.view_balance).pack()\n",
    "Button(root, text='Exit', command=root.destroy).pack()\n",
    "\n",
    "root.mainloop()\n"
   ]
  },
  {
   "cell_type": "code",
   "execution_count": null,
   "id": "e4fa004e",
   "metadata": {},
   "outputs": [],
   "source": []
  }
 ],
 "metadata": {
  "kernelspec": {
   "display_name": "Python 3 (ipykernel)",
   "language": "python",
   "name": "python3"
  },
  "language_info": {
   "codemirror_mode": {
    "name": "ipython",
    "version": 3
   },
   "file_extension": ".py",
   "mimetype": "text/x-python",
   "name": "python",
   "nbconvert_exporter": "python",
   "pygments_lexer": "ipython3",
   "version": "3.11.5"
  }
 },
 "nbformat": 4,
 "nbformat_minor": 5
}
